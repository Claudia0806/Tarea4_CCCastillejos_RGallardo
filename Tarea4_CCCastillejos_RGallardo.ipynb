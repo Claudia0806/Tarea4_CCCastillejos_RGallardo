{
 "cells": [
  {
   "attachments": {},
   "cell_type": "markdown",
   "id": "63cbca3e",
   "metadata": {},
   "source": [
    "<img style=\"float: left; margin: 30px 15px 15px 15px;\" src=\"https://encrypted-tbn0.gstatic.com/images?q=tbn:ANd9GcTFzQj91sOlkeDFkg5HDbjtR4QJYmLXkfMNig&usqp=CAU\" width=\"400\" height=\"500\" /> \n",
    "    \n",
    "    \n",
    "### <font color='navy'> Modelos no lineales para pronósticos. \n",
    "\n",
    "**Nombres:**\n",
    "- Castillejos Jauregui, Claudia Celeste\n",
    "- Gallardo      Rafael\n",
    "\n",
    "**Fecha:** 07 de marzo del 2023.\n",
    "\n",
    "**Expediente** :\n",
    "- 735868\n",
    "- 736376\n",
    "\n",
    "    \n",
    "**Profesor:** Oscar David Jaramillo Zuluaga.\n",
    "    \n",
    "**Link Github**: https://github.com/Claudia0806/Tarea4_CCCastillejos_RGallardo"
   ]
  },
  {
   "attachments": {},
   "cell_type": "markdown",
   "id": "de859137",
   "metadata": {},
   "source": [
    "#### Solucion Alumno 1"
   ]
  },
  {
   "cell_type": "code",
   "execution_count": 1,
   "id": "5dad9931",
   "metadata": {},
   "outputs": [
    {
     "name": "stdout",
     "output_type": "stream",
     "text": [
      "Downloading data from https://storage.googleapis.com/tensorflow/tf-keras-datasets/boston_housing.npz\n",
      "57026/57026 [==============================] - 0s 0us/step\n"
     ]
    }
   ],
   "source": [
    "import tensorflow as tf\n",
    "from tensorflow import keras\n",
    "import numpy as np\n",
    "import matplotlib.pyplot as plt\n",
    "import pandas as pd\n",
    "import seaborn as sn\n",
    "\n",
    "# Cargar los datos de entrenamiento y prueba\n",
    "(train_data, train_labels), (test_data, test_labels) = keras.datasets.boston_housing.load_data()"
   ]
  },
  {
   "cell_type": "code",
   "execution_count": null,
   "id": "b9bb7468",
   "metadata": {},
   "outputs": [],
   "source": [
    "train_data.shape, test_data.shape"
   ]
  },
  {
   "cell_type": "code",
   "execution_count": null,
   "id": "6b23bc17",
   "metadata": {},
   "outputs": [],
   "source": [
    "train_labels.shape, test_labels.shape"
   ]
  },
  {
   "cell_type": "code",
   "execution_count": null,
   "id": "1f66d858",
   "metadata": {},
   "outputs": [],
   "source": [
    "np.hstack([train_labels, test_labels]).shape"
   ]
  },
  {
   "cell_type": "code",
   "execution_count": null,
   "id": "034f0a83",
   "metadata": {},
   "outputs": [],
   "source": [
    "# Analizar la data completa\n",
    "columns = [\n",
    "    'CRIM',\n",
    "    'ZN',\n",
    "    'INDUS',\n",
    "    'CHAS',\n",
    "    'NOX',\n",
    "    'RM',\n",
    "    'AGE',\n",
    "    'DIS',\n",
    "    'RAD',\n",
    "    'TAX',\n",
    "    'PTRATIO',\n",
    "    'B',\n",
    "    'LSTAT',\n",
    "    'MEDV',\n",
    "]\n",
    "\n",
    "X = np.vstack([train_data, test_data])\n",
    "y = np.hstack([train_labels, test_labels]).reshape(-1, 1)\n",
    "data = pd.DataFrame(np.concatenate((X, y), axis=1), columns=columns)\n",
    "data\n"
   ]
  },
  {
   "cell_type": "code",
   "execution_count": null,
   "id": "2bf51b2e",
   "metadata": {},
   "outputs": [],
   "source": [
    "# Analizamos la distribución de variable MEDV\n",
    "import seaborn as sn\n",
    "sn.displot(data, x='MEDV', kde=True)"
   ]
  },
  {
   "cell_type": "code",
   "execution_count": null,
   "id": "b3137757",
   "metadata": {},
   "outputs": [],
   "source": [
    "# Análisis de correlación (selección de features) heatmap -> annot\n",
    "corr = data.corr().round(2)\n",
    "\n",
    "fig, ax = plt.subplots(1,1, figsize=(10, 8))\n",
    "sn.heatmap(corr, annot=True, ax=ax)"
   ]
  },
  {
   "cell_type": "code",
   "execution_count": null,
   "id": "5371533e",
   "metadata": {},
   "outputs": [],
   "source": [
    "plt.figure(figsize=(10,7))\n",
    "plt.boxplot(data)\n",
    "plt.show()"
   ]
  },
  {
   "cell_type": "code",
   "execution_count": null,
   "id": "bb4a1c18",
   "metadata": {},
   "outputs": [],
   "source": [
    "# Graficar la salida en el tiempo\n",
    "output_col = ['MEDV']\n",
    "data[output_col].plot()"
   ]
  },
  {
   "cell_type": "code",
   "execution_count": null,
   "id": "5d6a8775",
   "metadata": {},
   "outputs": [],
   "source": [
    "# Visualizo datos de entrenamiento y de prueba\n",
    "TEST_SIZE = int(0.2 * data.shape[0])\n",
    "TRAIN_SIZE = data.shape[0] - TEST_SIZE\n",
    "\n",
    "t = np.arange(1, X.shape[0] + 1)\n",
    "train_data, test_data = X[:TRAIN_SIZE], X[TRAIN_SIZE:]\n",
    "train_labels, test_labels = y[:TRAIN_SIZE], y[TRAIN_SIZE:]\n",
    "\n",
    "fig, ax = plt.subplots(1,2, figsize=(10,5))\n",
    "ax[0].plot(t[:TRAIN_SIZE], train_data, 'r*-', label='train data')\n",
    "ax[0].plot(t[TRAIN_SIZE:], test_data, 'bo-', label='test data')\n",
    "ax[0].legend()\n",
    "\n",
    "ax[1].plot(t[:TRAIN_SIZE], train_labels, 'r*-', label='train labels')\n",
    "ax[1].plot(t[TRAIN_SIZE:], test_labels, 'bo-', label='test labels')\n",
    "plt.legend()"
   ]
  },
  {
   "cell_type": "code",
   "execution_count": null,
   "id": "cf9a83fc",
   "metadata": {},
   "outputs": [],
   "source": [
    "test_data.shape, test_labels.shape"
   ]
  },
  {
   "cell_type": "code",
   "execution_count": null,
   "id": "99148557",
   "metadata": {},
   "outputs": [],
   "source": [
    "# Normalizar los datos de entrenamiento y prueba\n",
    "mean = train_data.mean(axis=0)\n",
    "std = train_data.std(axis=0)\n",
    "train_data = (train_data - mean) / std\n",
    "test_data = (test_data - mean) / std"
   ]
  },
  {
   "cell_type": "code",
   "execution_count": null,
   "id": "4b34f265",
   "metadata": {},
   "outputs": [],
   "source": [
    "train_data"
   ]
  },
  {
   "cell_type": "code",
   "execution_count": null,
   "id": "39d4dee3",
   "metadata": {},
   "outputs": [],
   "source": [
    "# Poner una semilla para replicar resultados\n",
    "tf.random.set_seed(5)\n",
    "\n",
    "# Definir la arquitectura de la red neuronal\n",
    "model = keras.Sequential([\n",
    "    keras.layers.Dense(64, activation='relu', input_shape=(train_data.shape[1],)),\n",
    "    keras.layers.Dense(64, activation='relu'),\n",
    "    keras.layers.Dense(16, activation='relu'),\n",
    "    keras.layers.Dense(1)\n",
    "])\n",
    "\n",
    "model.summary()"
   ]
  },
  {
   "cell_type": "code",
   "execution_count": null,
   "id": "44296c86",
   "metadata": {},
   "outputs": [],
   "source": [
    "# Compilar el modelo\n",
    "model.compile(optimizer='adam', loss='mean_squared_error', metrics=['mae'])\n",
    "\n",
    "# Entrenar el modelo\n",
    "# argumentos: validation_split, shuffle, epochs, verbose\n",
    "model_fit = model.fit(\n",
    "    train_data, train_labels, \n",
    "    validation_split=0.2, \n",
    "    shuffle=False,\n",
    "    epochs=50, \n",
    "    batch_size=32, \n",
    "    verbose=0\n",
    ")\n",
    "\n",
    "# Evaluar el modelo en el conjunto de prueba\n",
    "test_mse_score, test_mae_score = model.evaluate(test_data, test_labels)\n",
    "print('Error cuadrático medio en el conjunto de prueba:', test_mse_score)\n",
    "print('Error absoluto medio en el conjunto de prueba:', test_mae_score)"
   ]
  },
  {
   "cell_type": "code",
   "execution_count": null,
   "id": "1e4dd979",
   "metadata": {},
   "outputs": [],
   "source": [
    "model_fit.history.keys()"
   ]
  },
  {
   "cell_type": "code",
   "execution_count": null,
   "id": "814822c0",
   "metadata": {},
   "outputs": [],
   "source": [
    "# Graficar el loss del conjunto de entrenamiento y de validación\n",
    "plt.plot(model_fit.history['loss'], 'b', label='train')\n",
    "plt.plot(model_fit.history['val_loss'], 'r--', label='val')\n",
    "plt.ylabel('loss')\n",
    "plt.xlabel('epoch')\n",
    "plt.legend()"
   ]
  },
  {
   "cell_type": "code",
   "execution_count": null,
   "id": "7aa0fb80",
   "metadata": {},
   "outputs": [],
   "source": [
    "# Graficar métricas de error\n",
    "plt.plot(model_fit.history['mae'], 'b', label='train')\n",
    "plt.plot(model_fit.history['val_mae'], 'r--', label='val')\n",
    "plt.ylabel('mae')\n",
    "plt.xlabel('epoch')\n",
    "plt.legend()"
   ]
  },
  {
   "cell_type": "code",
   "execution_count": null,
   "id": "a0a5ec21",
   "metadata": {},
   "outputs": [],
   "source": [
    "predicted = model.predict(test_data)"
   ]
  },
  {
   "cell_type": "code",
   "execution_count": null,
   "id": "f86d3a38",
   "metadata": {},
   "outputs": [],
   "source": [
    "predicted.shape, test_data.shape"
   ]
  },
  {
   "cell_type": "code",
   "execution_count": null,
   "id": "6893cb71",
   "metadata": {},
   "outputs": [],
   "source": [
    "t[TRAIN_SIZE:].shape, test_labels.shape"
   ]
  },
  {
   "cell_type": "code",
   "execution_count": null,
   "id": "60245123",
   "metadata": {},
   "outputs": [],
   "source": [
    "plt.figure(figsize=(10,5))\n",
    "plt.plot(t[TRAIN_SIZE:], predicted, 'r*-', label='prediction')\n",
    "plt.plot(t[TRAIN_SIZE:], test_labels, 'bo-', label='test labels')\n",
    "\n",
    "plt.legend()"
   ]
  },
  {
   "cell_type": "code",
   "execution_count": null,
   "id": "64aa2f63",
   "metadata": {},
   "outputs": [],
   "source": []
  },
  {
   "attachments": {},
   "cell_type": "markdown",
   "id": "2ec28509",
   "metadata": {},
   "source": [
    "#### Solución alumno 2"
   ]
  },
  {
   "cell_type": "code",
   "execution_count": 1,
   "id": "33c25f58",
   "metadata": {},
   "outputs": [],
   "source": [
    "import tensorflow as tf\n",
    "from tensorflow import keras\n",
    "import numpy as np\n",
    "import matplotlib.pyplot as plt\n",
    "import pandas as pd\n",
    "import seaborn as sn"
   ]
  },
  {
   "cell_type": "code",
   "execution_count": 2,
   "id": "d80378b9",
   "metadata": {},
   "outputs": [],
   "source": [
    "# Cargar los datos de entrenamiento y prueba\n",
    "(train_data, train_labels), (test_data, test_labels) = keras.datasets.boston_housing.load_data()"
   ]
  },
  {
   "cell_type": "code",
   "execution_count": 3,
   "id": "286cceb6",
   "metadata": {},
   "outputs": [
    {
     "data": {
      "text/plain": [
       "((404, 13), (102, 13))"
      ]
     },
     "execution_count": 3,
     "metadata": {},
     "output_type": "execute_result"
    }
   ],
   "source": [
    "train_data.shape, test_data.shape"
   ]
  },
  {
   "cell_type": "code",
   "execution_count": 4,
   "id": "7a437d47",
   "metadata": {},
   "outputs": [
    {
     "data": {
      "text/html": [
       "<div>\n",
       "<style scoped>\n",
       "    .dataframe tbody tr th:only-of-type {\n",
       "        vertical-align: middle;\n",
       "    }\n",
       "\n",
       "    .dataframe tbody tr th {\n",
       "        vertical-align: top;\n",
       "    }\n",
       "\n",
       "    .dataframe thead th {\n",
       "        text-align: right;\n",
       "    }\n",
       "</style>\n",
       "<table border=\"1\" class=\"dataframe\">\n",
       "  <thead>\n",
       "    <tr style=\"text-align: right;\">\n",
       "      <th></th>\n",
       "      <th>CRIM</th>\n",
       "      <th>ZN</th>\n",
       "      <th>INDUS</th>\n",
       "      <th>CHAS</th>\n",
       "      <th>NOX</th>\n",
       "      <th>RM</th>\n",
       "      <th>AGE</th>\n",
       "      <th>DIS</th>\n",
       "      <th>RAD</th>\n",
       "      <th>TAX</th>\n",
       "      <th>PTRATIO</th>\n",
       "      <th>B</th>\n",
       "      <th>LSTAT</th>\n",
       "      <th>MEDV</th>\n",
       "    </tr>\n",
       "  </thead>\n",
       "  <tbody>\n",
       "    <tr>\n",
       "      <th>0</th>\n",
       "      <td>1.23247</td>\n",
       "      <td>0.0</td>\n",
       "      <td>8.14</td>\n",
       "      <td>0.0</td>\n",
       "      <td>0.538</td>\n",
       "      <td>6.142</td>\n",
       "      <td>91.7</td>\n",
       "      <td>3.9769</td>\n",
       "      <td>4.0</td>\n",
       "      <td>307.0</td>\n",
       "      <td>21.0</td>\n",
       "      <td>396.90</td>\n",
       "      <td>18.72</td>\n",
       "      <td>15.2</td>\n",
       "    </tr>\n",
       "    <tr>\n",
       "      <th>1</th>\n",
       "      <td>0.02177</td>\n",
       "      <td>82.5</td>\n",
       "      <td>2.03</td>\n",
       "      <td>0.0</td>\n",
       "      <td>0.415</td>\n",
       "      <td>7.610</td>\n",
       "      <td>15.7</td>\n",
       "      <td>6.2700</td>\n",
       "      <td>2.0</td>\n",
       "      <td>348.0</td>\n",
       "      <td>14.7</td>\n",
       "      <td>395.38</td>\n",
       "      <td>3.11</td>\n",
       "      <td>42.3</td>\n",
       "    </tr>\n",
       "    <tr>\n",
       "      <th>2</th>\n",
       "      <td>4.89822</td>\n",
       "      <td>0.0</td>\n",
       "      <td>18.10</td>\n",
       "      <td>0.0</td>\n",
       "      <td>0.631</td>\n",
       "      <td>4.970</td>\n",
       "      <td>100.0</td>\n",
       "      <td>1.3325</td>\n",
       "      <td>24.0</td>\n",
       "      <td>666.0</td>\n",
       "      <td>20.2</td>\n",
       "      <td>375.52</td>\n",
       "      <td>3.26</td>\n",
       "      <td>50.0</td>\n",
       "    </tr>\n",
       "    <tr>\n",
       "      <th>3</th>\n",
       "      <td>0.03961</td>\n",
       "      <td>0.0</td>\n",
       "      <td>5.19</td>\n",
       "      <td>0.0</td>\n",
       "      <td>0.515</td>\n",
       "      <td>6.037</td>\n",
       "      <td>34.5</td>\n",
       "      <td>5.9853</td>\n",
       "      <td>5.0</td>\n",
       "      <td>224.0</td>\n",
       "      <td>20.2</td>\n",
       "      <td>396.90</td>\n",
       "      <td>8.01</td>\n",
       "      <td>21.1</td>\n",
       "    </tr>\n",
       "    <tr>\n",
       "      <th>4</th>\n",
       "      <td>3.69311</td>\n",
       "      <td>0.0</td>\n",
       "      <td>18.10</td>\n",
       "      <td>0.0</td>\n",
       "      <td>0.713</td>\n",
       "      <td>6.376</td>\n",
       "      <td>88.4</td>\n",
       "      <td>2.5671</td>\n",
       "      <td>24.0</td>\n",
       "      <td>666.0</td>\n",
       "      <td>20.2</td>\n",
       "      <td>391.43</td>\n",
       "      <td>14.65</td>\n",
       "      <td>17.7</td>\n",
       "    </tr>\n",
       "    <tr>\n",
       "      <th>...</th>\n",
       "      <td>...</td>\n",
       "      <td>...</td>\n",
       "      <td>...</td>\n",
       "      <td>...</td>\n",
       "      <td>...</td>\n",
       "      <td>...</td>\n",
       "      <td>...</td>\n",
       "      <td>...</td>\n",
       "      <td>...</td>\n",
       "      <td>...</td>\n",
       "      <td>...</td>\n",
       "      <td>...</td>\n",
       "      <td>...</td>\n",
       "      <td>...</td>\n",
       "    </tr>\n",
       "    <tr>\n",
       "      <th>501</th>\n",
       "      <td>3.47428</td>\n",
       "      <td>0.0</td>\n",
       "      <td>18.10</td>\n",
       "      <td>1.0</td>\n",
       "      <td>0.718</td>\n",
       "      <td>8.780</td>\n",
       "      <td>82.9</td>\n",
       "      <td>1.9047</td>\n",
       "      <td>24.0</td>\n",
       "      <td>666.0</td>\n",
       "      <td>20.2</td>\n",
       "      <td>354.55</td>\n",
       "      <td>5.29</td>\n",
       "      <td>21.9</td>\n",
       "    </tr>\n",
       "    <tr>\n",
       "      <th>502</th>\n",
       "      <td>0.07896</td>\n",
       "      <td>0.0</td>\n",
       "      <td>12.83</td>\n",
       "      <td>0.0</td>\n",
       "      <td>0.437</td>\n",
       "      <td>6.273</td>\n",
       "      <td>6.0</td>\n",
       "      <td>4.2515</td>\n",
       "      <td>5.0</td>\n",
       "      <td>398.0</td>\n",
       "      <td>18.7</td>\n",
       "      <td>394.92</td>\n",
       "      <td>6.78</td>\n",
       "      <td>24.1</td>\n",
       "    </tr>\n",
       "    <tr>\n",
       "      <th>503</th>\n",
       "      <td>1.83377</td>\n",
       "      <td>0.0</td>\n",
       "      <td>19.58</td>\n",
       "      <td>1.0</td>\n",
       "      <td>0.605</td>\n",
       "      <td>7.802</td>\n",
       "      <td>98.2</td>\n",
       "      <td>2.0407</td>\n",
       "      <td>5.0</td>\n",
       "      <td>403.0</td>\n",
       "      <td>14.7</td>\n",
       "      <td>389.61</td>\n",
       "      <td>1.92</td>\n",
       "      <td>50.0</td>\n",
       "    </tr>\n",
       "    <tr>\n",
       "      <th>504</th>\n",
       "      <td>0.35809</td>\n",
       "      <td>0.0</td>\n",
       "      <td>6.20</td>\n",
       "      <td>1.0</td>\n",
       "      <td>0.507</td>\n",
       "      <td>6.951</td>\n",
       "      <td>88.5</td>\n",
       "      <td>2.8617</td>\n",
       "      <td>8.0</td>\n",
       "      <td>307.0</td>\n",
       "      <td>17.4</td>\n",
       "      <td>391.70</td>\n",
       "      <td>9.71</td>\n",
       "      <td>26.7</td>\n",
       "    </tr>\n",
       "    <tr>\n",
       "      <th>505</th>\n",
       "      <td>2.92400</td>\n",
       "      <td>0.0</td>\n",
       "      <td>19.58</td>\n",
       "      <td>0.0</td>\n",
       "      <td>0.605</td>\n",
       "      <td>6.101</td>\n",
       "      <td>93.0</td>\n",
       "      <td>2.2834</td>\n",
       "      <td>5.0</td>\n",
       "      <td>403.0</td>\n",
       "      <td>14.7</td>\n",
       "      <td>240.16</td>\n",
       "      <td>9.81</td>\n",
       "      <td>25.0</td>\n",
       "    </tr>\n",
       "  </tbody>\n",
       "</table>\n",
       "<p>506 rows × 14 columns</p>\n",
       "</div>"
      ],
      "text/plain": [
       "        CRIM    ZN  INDUS  CHAS    NOX     RM    AGE     DIS   RAD    TAX  \\\n",
       "0    1.23247   0.0   8.14   0.0  0.538  6.142   91.7  3.9769   4.0  307.0   \n",
       "1    0.02177  82.5   2.03   0.0  0.415  7.610   15.7  6.2700   2.0  348.0   \n",
       "2    4.89822   0.0  18.10   0.0  0.631  4.970  100.0  1.3325  24.0  666.0   \n",
       "3    0.03961   0.0   5.19   0.0  0.515  6.037   34.5  5.9853   5.0  224.0   \n",
       "4    3.69311   0.0  18.10   0.0  0.713  6.376   88.4  2.5671  24.0  666.0   \n",
       "..       ...   ...    ...   ...    ...    ...    ...     ...   ...    ...   \n",
       "501  3.47428   0.0  18.10   1.0  0.718  8.780   82.9  1.9047  24.0  666.0   \n",
       "502  0.07896   0.0  12.83   0.0  0.437  6.273    6.0  4.2515   5.0  398.0   \n",
       "503  1.83377   0.0  19.58   1.0  0.605  7.802   98.2  2.0407   5.0  403.0   \n",
       "504  0.35809   0.0   6.20   1.0  0.507  6.951   88.5  2.8617   8.0  307.0   \n",
       "505  2.92400   0.0  19.58   0.0  0.605  6.101   93.0  2.2834   5.0  403.0   \n",
       "\n",
       "     PTRATIO       B  LSTAT  MEDV  \n",
       "0       21.0  396.90  18.72  15.2  \n",
       "1       14.7  395.38   3.11  42.3  \n",
       "2       20.2  375.52   3.26  50.0  \n",
       "3       20.2  396.90   8.01  21.1  \n",
       "4       20.2  391.43  14.65  17.7  \n",
       "..       ...     ...    ...   ...  \n",
       "501     20.2  354.55   5.29  21.9  \n",
       "502     18.7  394.92   6.78  24.1  \n",
       "503     14.7  389.61   1.92  50.0  \n",
       "504     17.4  391.70   9.71  26.7  \n",
       "505     14.7  240.16   9.81  25.0  \n",
       "\n",
       "[506 rows x 14 columns]"
      ]
     },
     "execution_count": 4,
     "metadata": {},
     "output_type": "execute_result"
    }
   ],
   "source": [
    "# Analizar la data completa\n",
    "columns = [\n",
    "    'CRIM',\n",
    "    'ZN',\n",
    "    'INDUS',\n",
    "    'CHAS',\n",
    "    'NOX',\n",
    "    'RM',\n",
    "    'AGE',\n",
    "    'DIS',\n",
    "    'RAD',\n",
    "    'TAX',\n",
    "    'PTRATIO',\n",
    "    'B',\n",
    "    'LSTAT',\n",
    "    'MEDV',\n",
    "]\n",
    "\n",
    "X = np.vstack([train_data, test_data])\n",
    "y = np.hstack([train_labels, test_labels]).reshape(-1, 1)\n",
    "data = pd.DataFrame(np.concatenate((X, y), axis=1), columns=columns)\n",
    "data"
   ]
  },
  {
   "cell_type": "code",
   "execution_count": 5,
   "id": "b4564cfd",
   "metadata": {},
   "outputs": [],
   "source": [
    "# Normalizar los datos de entrenamiento y prueba\n",
    "mean = train_data.mean(axis=0)\n",
    "std = train_data.std(axis=0)\n",
    "train_data = (train_data - mean) / std\n",
    "test_data = (test_data - mean) / std"
   ]
  },
  {
   "attachments": {},
   "cell_type": "markdown",
   "id": "d8680abc",
   "metadata": {},
   "source": [
    "El objetivo para es este dataset es el siguiente:\n",
    "1. Construir una red neuronal MLP univariada. Para esto, escoger la variable que más tenga correlación con la variable de salida.\n",
    "2. Construir una red neuronal MLP multivariada. Para esto, tomar todas las variables incluidas en nuestro dataset.\n",
    "3. Construir una red neuronal MLP multivariada, pero en este caso sólo considerar las variables adecuadas y descartar aquellas que no aportan mucha información o que son redundantes para cuantificar el efecto de estas variables redundantes.\n",
    "\n",
    "**Nota**: Para poder saber cuales variables incluir en el modelo y cuales rechazar una opción es analizar la correlación de pearson y la otra usando pruebas estadísiticas con las siguientes paqueterías\n",
    "```\n",
    "from sklearn.feature_selection import SelectKBest\n",
    "from sklearn.feature_selection import f_regression\n",
    "```\n",
    "> Luego del paso 3, crear el mismo modelo pero en este caso implementar técnicas de regularización `EarlyStoppin` y `dropout`. Investigar como se pueden implementar estas estrategias en tensorflow."
   ]
  },
  {
   "attachments": {},
   "cell_type": "markdown",
   "id": "dbe911fe",
   "metadata": {},
   "source": [
    "El punto 1 ya ha sido hecho en clase, por lo que procederemos al punto 2"
   ]
  },
  {
   "attachments": {},
   "cell_type": "markdown",
   "id": "ebafc479",
   "metadata": {},
   "source": [
    "##### Punto 2"
   ]
  },
  {
   "cell_type": "code",
   "execution_count": 6,
   "id": "fcd25dd7",
   "metadata": {},
   "outputs": [
    {
     "name": "stdout",
     "output_type": "stream",
     "text": [
      "Model: \"sequential\"\n",
      "_________________________________________________________________\n",
      " Layer (type)                Output Shape              Param #   \n",
      "=================================================================\n",
      " dense (Dense)               (None, 64)                896       \n",
      "                                                                 \n",
      " dense_1 (Dense)             (None, 64)                4160      \n",
      "                                                                 \n",
      " dense_2 (Dense)             (None, 1)                 65        \n",
      "                                                                 \n",
      "=================================================================\n",
      "Total params: 5,121\n",
      "Trainable params: 5,121\n",
      "Non-trainable params: 0\n",
      "_________________________________________________________________\n"
     ]
    }
   ],
   "source": [
    "# Poner una semilla para replicar resultados\n",
    "tf.random.set_seed(4)\n",
    "\n",
    "# Definir la arquitectura de la red neuronal\n",
    "model = keras.Sequential([\n",
    "    keras.layers.Dense(64, activation='relu', input_shape=(train_data.shape[1],)),\n",
    "    keras.layers.Dense(64, activation='relu'),\n",
    "    keras.layers.Dense(1)\n",
    "])\n",
    "\n",
    "model.summary()"
   ]
  },
  {
   "cell_type": "code",
   "execution_count": 7,
   "id": "9e1d1c47",
   "metadata": {},
   "outputs": [
    {
     "name": "stdout",
     "output_type": "stream",
     "text": [
      "4/4 [==============================] - 0s 3ms/step - loss: 37.3644 - mae: 3.5506\n",
      "Error cuadrático medio en el conjunto de prueba: 37.36435317993164\n",
      "Error absoluto medio en el conjunto de prueba: 3.550618886947632\n"
     ]
    }
   ],
   "source": [
    "# Compilar el modelo\n",
    "model.compile(optimizer='rmsprop', loss='mse', metrics=['mae'])\n",
    "\n",
    "# Entrenar el modelo\n",
    "# argumentos: validation_split, shuffle, epochs, verbose\n",
    "model_fit = model.fit(\n",
    "    train_data, train_labels, \n",
    "    validation_split=0.2, \n",
    "    shuffle=False,\n",
    "    epochs=50, \n",
    "    batch_size=32, \n",
    "    verbose=0\n",
    ")\n",
    "\n",
    "# Evaluar el modelo en el conjunto de prueba\n",
    "test_mse_score, test_mae_score = model.evaluate(test_data, test_labels)\n",
    "print('Error cuadrático medio en el conjunto de prueba:', test_mse_score)\n",
    "print('Error absoluto medio en el conjunto de prueba:', test_mae_score)"
   ]
  },
  {
   "cell_type": "code",
   "execution_count": 8,
   "id": "86a5091b",
   "metadata": {},
   "outputs": [
    {
     "data": {
      "text/plain": [
       "<matplotlib.legend.Legend at 0x18ce93cb7c0>"
      ]
     },
     "execution_count": 8,
     "metadata": {},
     "output_type": "execute_result"
    },
    {
     "data": {
      "image/png": "[encoded data removed]",
      "text/plain": [
       "<Figure size 640x480 with 1 Axes>"
      ]
     },
     "metadata": {},
     "output_type": "display_data"
    }
   ],
   "source": [
    "# Graficar el loss del conjunto de entrenamiento y de validación\n",
    "plt.plot(model_fit.history['loss'], 'b', label='train')\n",
    "plt.plot(model_fit.history['val_loss'], 'r--', label='val')\n",
    "plt.ylabel('loss')\n",
    "plt.xlabel('epoch')\n",
    "plt.legend()"
   ]
  },
  {
   "cell_type": "code",
   "execution_count": 9,
   "id": "40d01f3b",
   "metadata": {},
   "outputs": [
    {
     "data": {
      "text/plain": [
       "<matplotlib.legend.Legend at 0x18ce93fe650>"
      ]
     },
     "execution_count": 9,
     "metadata": {},
     "output_type": "execute_result"
    },
    {
     "data": {
      "image/png": "[encoded data removed]",
      "text/plain": [
       "<Figure size 640x480 with 1 Axes>"
      ]
     },
     "metadata": {},
     "output_type": "display_data"
    }
   ],
   "source": [
    "# Graficar métricas de error\n",
    "plt.plot(model_fit.history['mae'], 'b', label='train')\n",
    "plt.plot(model_fit.history['val_mae'], 'r--', label='val')\n",
    "plt.ylabel('mae')\n",
    "plt.xlabel('epoch')\n",
    "plt.legend()"
   ]
  },
  {
   "attachments": {},
   "cell_type": "markdown",
   "id": "93d4f717",
   "metadata": {},
   "source": [
    "##### Punto 3"
   ]
  },
  {
   "cell_type": "code",
   "execution_count": 10,
   "id": "fac78616",
   "metadata": {},
   "outputs": [],
   "source": [
    "from sklearn.feature_selection import SelectKBest"
   ]
  },
  {
   "cell_type": "code",
   "execution_count": 11,
   "id": "78d7c734",
   "metadata": {},
   "outputs": [
    {
     "data": {
      "text/html": [
       "<style>#sk-container-id-1 {color: black;background-color: white;}#sk-container-id-1 pre{padding: 0;}#sk-container-id-1 div.sk-toggleable {background-color: white;}#sk-container-id-1 label.sk-toggleable__label {cursor: pointer;display: block;width: 100%;margin-bottom: 0;padding: 0.3em;box-sizing: border-box;text-align: center;}#sk-container-id-1 label.sk-toggleable__label-arrow:before {content: \"▸\";float: left;margin-right: 0.25em;color: #696969;}#sk-container-id-1 label.sk-toggleable__label-arrow:hover:before {color: black;}#sk-container-id-1 div.sk-estimator:hover label.sk-toggleable__label-arrow:before {color: black;}#sk-container-id-1 div.sk-toggleable__content {max-height: 0;max-width: 0;overflow: hidden;text-align: left;background-color: #f0f8ff;}#sk-container-id-1 div.sk-toggleable__content pre {margin: 0.2em;color: black;border-radius: 0.25em;background-color: #f0f8ff;}#sk-container-id-1 input.sk-toggleable__control:checked~div.sk-toggleable__content {max-height: 200px;max-width: 100%;overflow: auto;}#sk-container-id-1 input.sk-toggleable__control:checked~label.sk-toggleable__label-arrow:before {content: \"▾\";}#sk-container-id-1 div.sk-estimator input.sk-toggleable__control:checked~label.sk-toggleable__label {background-color: #d4ebff;}#sk-container-id-1 div.sk-label input.sk-toggleable__control:checked~label.sk-toggleable__label {background-color: #d4ebff;}#sk-container-id-1 input.sk-hidden--visually {border: 0;clip: rect(1px 1px 1px 1px);clip: rect(1px, 1px, 1px, 1px);height: 1px;margin: -1px;overflow: hidden;padding: 0;position: absolute;width: 1px;}#sk-container-id-1 div.sk-estimator {font-family: monospace;background-color: #f0f8ff;border: 1px dotted black;border-radius: 0.25em;box-sizing: border-box;margin-bottom: 0.5em;}#sk-container-id-1 div.sk-estimator:hover {background-color: #d4ebff;}#sk-container-id-1 div.sk-parallel-item::after {content: \"\";width: 100%;border-bottom: 1px solid gray;flex-grow: 1;}#sk-container-id-1 div.sk-label:hover label.sk-toggleable__label {background-color: #d4ebff;}#sk-container-id-1 div.sk-serial::before {content: \"\";position: absolute;border-left: 1px solid gray;box-sizing: border-box;top: 0;bottom: 0;left: 50%;z-index: 0;}#sk-container-id-1 div.sk-serial {display: flex;flex-direction: column;align-items: center;background-color: white;padding-right: 0.2em;padding-left: 0.2em;position: relative;}#sk-container-id-1 div.sk-item {position: relative;z-index: 1;}#sk-container-id-1 div.sk-parallel {display: flex;align-items: stretch;justify-content: center;background-color: white;position: relative;}#sk-container-id-1 div.sk-item::before, #sk-container-id-1 div.sk-parallel-item::before {content: \"\";position: absolute;border-left: 1px solid gray;box-sizing: border-box;top: 0;bottom: 0;left: 50%;z-index: -1;}#sk-container-id-1 div.sk-parallel-item {display: flex;flex-direction: column;z-index: 1;position: relative;background-color: white;}#sk-container-id-1 div.sk-parallel-item:first-child::after {align-self: flex-end;width: 50%;}#sk-container-id-1 div.sk-parallel-item:last-child::after {align-self: flex-start;width: 50%;}#sk-container-id-1 div.sk-parallel-item:only-child::after {width: 0;}#sk-container-id-1 div.sk-dashed-wrapped {border: 1px dashed gray;margin: 0 0.4em 0.5em 0.4em;box-sizing: border-box;padding-bottom: 0.4em;background-color: white;}#sk-container-id-1 div.sk-label label {font-family: monospace;font-weight: bold;display: inline-block;line-height: 1.2em;}#sk-container-id-1 div.sk-label-container {text-align: center;}#sk-container-id-1 div.sk-container {/* jupyter's `normalize.less` sets `[hidden] { display: none; }` but bootstrap.min.css set `[hidden] { display: none !important; }` so we also need the `!important` here to be able to override the default hidden behavior on the sphinx rendered scikit-learn.org. See: https://github.com/scikit-learn/scikit-learn/issues/21755 */display: inline-block !important;position: relative;}#sk-container-id-1 div.sk-text-repr-fallback {display: none;}</style><div id=\"sk-container-id-1\" class=\"sk-top-container\"><div class=\"sk-text-repr-fallback\"><pre>SelectKBest(k=6)</pre><b>In a Jupyter environment, please rerun this cell to show the HTML representation or trust the notebook. <br />On GitHub, the HTML representation is unable to render, please try loading this page with nbviewer.org.</b></div><div class=\"sk-container\" hidden><div class=\"sk-item\"><div class=\"sk-estimator sk-toggleable\"><input class=\"sk-toggleable__control sk-hidden--visually\" id=\"sk-estimator-id-1\" type=\"checkbox\" checked><label for=\"sk-estimator-id-1\" class=\"sk-toggleable__label sk-toggleable__label-arrow\">SelectKBest</label><div class=\"sk-toggleable__content\"><pre>SelectKBest(k=6)</pre></div></div></div></div></div>"
      ],
      "text/plain": [
       "SelectKBest(k=6)"
      ]
     },
     "execution_count": 11,
     "metadata": {},
     "output_type": "execute_result"
    }
   ],
   "source": [
    "kbest = SelectKBest(k = 6)\n",
    "kbest.fit(train_data, train_labels)\n",
    "kbest"
   ]
  },
  {
   "cell_type": "code",
   "execution_count": 12,
   "id": "f50098cf",
   "metadata": {},
   "outputs": [
    {
     "data": {
      "text/plain": [
       "array([ True, False, False, False,  True,  True, False, False, False,\n",
       "        True, False,  True,  True])"
      ]
     },
     "execution_count": 12,
     "metadata": {},
     "output_type": "execute_result"
    }
   ],
   "source": [
    "kbest.get_support()"
   ]
  },
  {
   "cell_type": "code",
   "execution_count": 13,
   "id": "d7213b7e",
   "metadata": {},
   "outputs": [],
   "source": [
    "train_new = kbest.transform(train_data)\n",
    "test_new = kbest.transform(test_data)"
   ]
  },
  {
   "cell_type": "code",
   "execution_count": 14,
   "id": "17034b39",
   "metadata": {},
   "outputs": [
    {
     "name": "stdout",
     "output_type": "stream",
     "text": [
      "Model: \"sequential_1\"\n",
      "_________________________________________________________________\n",
      " Layer (type)                Output Shape              Param #   \n",
      "=================================================================\n",
      " dense_3 (Dense)             (None, 64)                448       \n",
      "                                                                 \n",
      " dense_4 (Dense)             (None, 64)                4160      \n",
      "                                                                 \n",
      " dense_5 (Dense)             (None, 1)                 65        \n",
      "                                                                 \n",
      "=================================================================\n",
      "Total params: 4,673\n",
      "Trainable params: 4,673\n",
      "Non-trainable params: 0\n",
      "_________________________________________________________________\n"
     ]
    }
   ],
   "source": [
    "# Poner una semilla para replicar resultados\n",
    "tf.random.set_seed(4)\n",
    "\n",
    "# Definir la arquitectura de la red neuronal\n",
    "model2 = keras.Sequential([\n",
    "    keras.layers.Dense(64, activation='relu', input_shape=(train_new.shape[1],)),\n",
    "    keras.layers.Dense(64, activation='relu'),\n",
    "    keras.layers.Dense(1)\n",
    "])\n",
    "\n",
    "model2.summary()"
   ]
  },
  {
   "cell_type": "code",
   "execution_count": 15,
   "id": "fc9ccfaf",
   "metadata": {},
   "outputs": [
    {
     "name": "stdout",
     "output_type": "stream",
     "text": [
      "4/4 [==============================] - 0s 2ms/step - loss: 28.3117 - mae: 3.3906\n",
      "Error cuadrático medio en el conjunto de prueba: 28.311702728271484\n",
      "Error absoluto medio en el conjunto de prueba: 3.3905556201934814\n"
     ]
    }
   ],
   "source": [
    "# Compilar el modelo\n",
    "model2.compile(optimizer='rmsprop', loss='mse', metrics=['mae'])\n",
    "\n",
    "# Entrenar el modelo\n",
    "# argumentos: validation_split, shuffle, epochs, verbose\n",
    "model2_fit = model2.fit(\n",
    "    train_new, train_labels, \n",
    "    validation_split=0.2, \n",
    "    shuffle=False,\n",
    "    epochs=100, \n",
    "    batch_size=32, \n",
    "    verbose=0\n",
    ")\n",
    "\n",
    "# Evaluar el modelo en el conjunto de prueba\n",
    "test_mse_score, test_mae_score = model2.evaluate(test_new, test_labels)\n",
    "print('Error cuadrático medio en el conjunto de prueba:', test_mse_score)\n",
    "print('Error absoluto medio en el conjunto de prueba:', test_mae_score)"
   ]
  },
  {
   "cell_type": "code",
   "execution_count": 16,
   "id": "4c6375df",
   "metadata": {},
   "outputs": [
    {
     "data": {
      "text/plain": [
       "<matplotlib.legend.Legend at 0x18cea1465f0>"
      ]
     },
     "execution_count": 16,
     "metadata": {},
     "output_type": "execute_result"
    },
    {
     "data": {
      "image/png": "[encoded data removed]",
      "text/plain": [
       "<Figure size 640x480 with 1 Axes>"
      ]
     },
     "metadata": {},
     "output_type": "display_data"
    }
   ],
   "source": [
    "# Graficar el loss del conjunto de entrenamiento y de validación\n",
    "plt.plot(model2_fit.history['loss'], 'b', label='train')\n",
    "plt.plot(model2_fit.history['val_loss'], 'r--', label='val')\n",
    "plt.ylabel('loss')\n",
    "plt.xlabel('epoch')\n",
    "plt.legend()"
   ]
  },
  {
   "cell_type": "code",
   "execution_count": 17,
   "id": "757c4b5c",
   "metadata": {},
   "outputs": [
    {
     "data": {
      "text/plain": [
       "<matplotlib.legend.Legend at 0x18cea186350>"
      ]
     },
     "execution_count": 17,
     "metadata": {},
     "output_type": "execute_result"
    },
    {
     "data": {
      "image/png": "[encoded data removed]",
      "text/plain": [
       "<Figure size 640x480 with 1 Axes>"
      ]
     },
     "metadata": {},
     "output_type": "display_data"
    }
   ],
   "source": [
    "# Graficar métricas de error\n",
    "plt.plot(model2_fit.history['mae'], 'b', label='train')\n",
    "plt.plot(model2_fit.history['val_mae'], 'r--', label='val')\n",
    "plt.ylabel('mae')\n",
    "plt.xlabel('epoch')\n",
    "plt.legend()"
   ]
  },
  {
   "attachments": {},
   "cell_type": "markdown",
   "id": "d0c8e931",
   "metadata": {},
   "source": [
    "##### Punto 3.1"
   ]
  },
  {
   "cell_type": "code",
   "execution_count": 18,
   "id": "40fee382",
   "metadata": {},
   "outputs": [],
   "source": [
    "es = keras.callbacks.EarlyStopping(patience = 5, restore_best_weights=True)"
   ]
  },
  {
   "cell_type": "code",
   "execution_count": 19,
   "id": "49a94bdc",
   "metadata": {},
   "outputs": [
    {
     "name": "stdout",
     "output_type": "stream",
     "text": [
      "Model: \"sequential_2\"\n",
      "_________________________________________________________________\n",
      " Layer (type)                Output Shape              Param #   \n",
      "=================================================================\n",
      " dense_6 (Dense)             (None, 64)                448       \n",
      "                                                                 \n",
      " dense_7 (Dense)             (None, 64)                4160      \n",
      "                                                                 \n",
      " dropout (Dropout)           (None, 64)                0         \n",
      "                                                                 \n",
      " dense_8 (Dense)             (None, 1)                 65        \n",
      "                                                                 \n",
      "=================================================================\n",
      "Total params: 4,673\n",
      "Trainable params: 4,673\n",
      "Non-trainable params: 0\n",
      "_________________________________________________________________\n"
     ]
    }
   ],
   "source": [
    "# Poner una semilla para replicar resultados\n",
    "tf.random.set_seed(4)\n",
    "\n",
    "# Definir la arquitectura de la red neuronal\n",
    "model3 = keras.Sequential([\n",
    "    keras.layers.Dense(64, activation='relu', input_shape=(train_new.shape[1],)),\n",
    "    keras.layers.Dense(64, activation='relu'),\n",
    "    keras.layers.Dropout(0.5),\n",
    "    keras.layers.Dense(1)\n",
    "])\n",
    "\n",
    "model3.summary()"
   ]
  },
  {
   "cell_type": "code",
   "execution_count": 20,
   "id": "7311e5bc",
   "metadata": {},
   "outputs": [
    {
     "name": "stdout",
     "output_type": "stream",
     "text": [
      "Epoch 1/1000\n",
      "11/11 [==============================] - 2s 27ms/step - loss: 520.9326 - mae: 20.9227 - val_loss: 554.8870 - val_mae: 21.7157\n",
      "Epoch 2/1000\n",
      "11/11 [==============================] - 0s 7ms/step - loss: 458.6975 - mae: 19.4027 - val_loss: 491.3440 - val_mae: 20.2680\n",
      "Epoch 3/1000\n",
      "11/11 [==============================] - 0s 8ms/step - loss: 398.0779 - mae: 17.8775 - val_loss: 422.2136 - val_mae: 18.6598\n",
      "Epoch 4/1000\n",
      "11/11 [==============================] - 0s 7ms/step - loss: 335.1860 - mae: 16.2582 - val_loss: 346.3136 - val_mae: 16.7150\n",
      "Epoch 5/1000\n",
      "11/11 [==============================] - 0s 6ms/step - loss: 264.9081 - mae: 14.1747 - val_loss: 271.1266 - val_mae: 14.5489\n",
      "Epoch 6/1000\n",
      "11/11 [==============================] - 0s 7ms/step - loss: 201.0226 - mae: 12.0581 - val_loss: 199.7371 - val_mae: 12.1443\n",
      "Epoch 7/1000\n",
      "11/11 [==============================] - 0s 6ms/step - loss: 141.8309 - mae: 9.8106 - val_loss: 140.3925 - val_mae: 9.7294\n",
      "Epoch 8/1000\n",
      "11/11 [==============================] - 0s 6ms/step - loss: 110.4859 - mae: 8.0812 - val_loss: 95.9452 - val_mae: 7.3441\n",
      "Epoch 9/1000\n",
      "11/11 [==============================] - 0s 6ms/step - loss: 75.1189 - mae: 6.4030 - val_loss: 71.6372 - val_mae: 5.9582\n",
      "Epoch 10/1000\n",
      "11/11 [==============================] - 0s 6ms/step - loss: 63.1035 - mae: 5.8265 - val_loss: 57.3997 - val_mae: 5.3424\n",
      "Epoch 11/1000\n",
      "11/11 [==============================] - 0s 6ms/step - loss: 58.0327 - mae: 5.5726 - val_loss: 51.4420 - val_mae: 5.0920\n",
      "Epoch 12/1000\n",
      "11/11 [==============================] - 0s 6ms/step - loss: 55.4885 - mae: 5.3529 - val_loss: 46.8069 - val_mae: 4.8731\n",
      "Epoch 13/1000\n",
      "11/11 [==============================] - 0s 6ms/step - loss: 55.6219 - mae: 5.5436 - val_loss: 42.0241 - val_mae: 4.6042\n",
      "Epoch 14/1000\n",
      "11/11 [==============================] - 0s 6ms/step - loss: 51.5002 - mae: 5.3031 - val_loss: 39.7129 - val_mae: 4.3869\n",
      "Epoch 15/1000\n",
      "11/11 [==============================] - 0s 7ms/step - loss: 52.1432 - mae: 5.2958 - val_loss: 36.8277 - val_mae: 4.2105\n",
      "Epoch 16/1000\n",
      "11/11 [==============================] - 0s 8ms/step - loss: 48.5353 - mae: 4.9702 - val_loss: 33.5209 - val_mae: 4.0812\n",
      "Epoch 17/1000\n",
      "11/11 [==============================] - 0s 7ms/step - loss: 43.8473 - mae: 4.8405 - val_loss: 30.7859 - val_mae: 3.9570\n",
      "Epoch 18/1000\n",
      "11/11 [==============================] - 0s 8ms/step - loss: 41.4523 - mae: 4.6854 - val_loss: 29.8944 - val_mae: 3.8865\n",
      "Epoch 19/1000\n",
      "11/11 [==============================] - 0s 7ms/step - loss: 45.2963 - mae: 4.8343 - val_loss: 28.0037 - val_mae: 3.7404\n",
      "Epoch 20/1000\n",
      "11/11 [==============================] - 0s 7ms/step - loss: 42.9369 - mae: 4.5817 - val_loss: 27.2776 - val_mae: 3.6751\n",
      "Epoch 21/1000\n",
      "11/11 [==============================] - 0s 6ms/step - loss: 38.6866 - mae: 4.7233 - val_loss: 26.3816 - val_mae: 3.6124\n",
      "Epoch 22/1000\n",
      "11/11 [==============================] - 0s 6ms/step - loss: 42.0158 - mae: 4.6617 - val_loss: 25.7116 - val_mae: 3.5537\n",
      "Epoch 23/1000\n",
      "11/11 [==============================] - 0s 6ms/step - loss: 39.8382 - mae: 4.6663 - val_loss: 24.7662 - val_mae: 3.5085\n",
      "Epoch 24/1000\n",
      "11/11 [==============================] - 0s 7ms/step - loss: 38.2041 - mae: 4.7208 - val_loss: 23.3322 - val_mae: 3.4678\n",
      "Epoch 25/1000\n",
      "11/11 [==============================] - 0s 7ms/step - loss: 38.7278 - mae: 4.5115 - val_loss: 23.4684 - val_mae: 3.4394\n",
      "Epoch 26/1000\n",
      "11/11 [==============================] - 0s 7ms/step - loss: 39.2120 - mae: 4.5840 - val_loss: 22.4907 - val_mae: 3.3906\n",
      "Epoch 27/1000\n",
      "11/11 [==============================] - 0s 7ms/step - loss: 37.3042 - mae: 4.6155 - val_loss: 21.9720 - val_mae: 3.3427\n",
      "Epoch 28/1000\n",
      "11/11 [==============================] - 0s 7ms/step - loss: 34.2100 - mae: 4.4573 - val_loss: 22.2641 - val_mae: 3.3367\n",
      "Epoch 29/1000\n",
      "11/11 [==============================] - 0s 7ms/step - loss: 38.4482 - mae: 4.5823 - val_loss: 20.4217 - val_mae: 3.2503\n",
      "Epoch 30/1000\n",
      "11/11 [==============================] - 0s 5ms/step - loss: 34.1897 - mae: 4.2779 - val_loss: 21.5804 - val_mae: 3.3084\n",
      "Epoch 31/1000\n",
      "11/11 [==============================] - 0s 5ms/step - loss: 32.3052 - mae: 4.2273 - val_loss: 21.2554 - val_mae: 3.3274\n",
      "Epoch 32/1000\n",
      "11/11 [==============================] - 0s 8ms/step - loss: 33.6893 - mae: 4.2658 - val_loss: 19.9680 - val_mae: 3.2572\n",
      "Epoch 33/1000\n",
      "11/11 [==============================] - 0s 7ms/step - loss: 33.2743 - mae: 4.3720 - val_loss: 20.1862 - val_mae: 3.2943\n",
      "Epoch 34/1000\n",
      "11/11 [==============================] - 0s 7ms/step - loss: 34.0992 - mae: 4.2135 - val_loss: 20.9988 - val_mae: 3.3337\n",
      "Epoch 35/1000\n",
      "11/11 [==============================] - 0s 7ms/step - loss: 31.3357 - mae: 4.2272 - val_loss: 19.5300 - val_mae: 3.3160\n",
      "Epoch 36/1000\n",
      "11/11 [==============================] - 0s 7ms/step - loss: 33.4695 - mae: 4.3293 - val_loss: 20.5414 - val_mae: 3.3008\n",
      "Epoch 37/1000\n",
      "11/11 [==============================] - 0s 10ms/step - loss: 34.1849 - mae: 4.3086 - val_loss: 19.2567 - val_mae: 3.2318\n",
      "Epoch 38/1000\n",
      "11/11 [==============================] - 0s 10ms/step - loss: 27.0806 - mae: 3.8890 - val_loss: 18.9994 - val_mae: 3.2627\n",
      "Epoch 39/1000\n",
      "11/11 [==============================] - 0s 7ms/step - loss: 32.3795 - mae: 4.1328 - val_loss: 19.2620 - val_mae: 3.2724\n",
      "Epoch 40/1000\n",
      "11/11 [==============================] - 0s 7ms/step - loss: 29.5909 - mae: 4.0925 - val_loss: 19.1980 - val_mae: 3.3219\n",
      "Epoch 41/1000\n",
      "11/11 [==============================] - 0s 8ms/step - loss: 28.4807 - mae: 4.0034 - val_loss: 19.7102 - val_mae: 3.3161\n",
      "Epoch 42/1000\n",
      "11/11 [==============================] - 0s 7ms/step - loss: 32.5614 - mae: 3.9991 - val_loss: 18.9532 - val_mae: 3.2458\n",
      "Epoch 43/1000\n",
      "11/11 [==============================] - 0s 7ms/step - loss: 29.3357 - mae: 4.0337 - val_loss: 20.0997 - val_mae: 3.3086\n",
      "Epoch 44/1000\n",
      "11/11 [==============================] - 0s 9ms/step - loss: 31.7406 - mae: 4.3386 - val_loss: 18.6346 - val_mae: 3.2224\n",
      "Epoch 45/1000\n",
      "11/11 [==============================] - 0s 8ms/step - loss: 33.2054 - mae: 4.4051 - val_loss: 18.4546 - val_mae: 3.2084\n",
      "Epoch 46/1000\n",
      "11/11 [==============================] - 0s 11ms/step - loss: 29.8877 - mae: 4.0899 - val_loss: 19.6317 - val_mae: 3.2798\n",
      "Epoch 47/1000\n",
      "11/11 [==============================] - 0s 6ms/step - loss: 33.9603 - mae: 4.3361 - val_loss: 18.8320 - val_mae: 3.2341\n",
      "Epoch 48/1000\n",
      "11/11 [==============================] - 0s 6ms/step - loss: 36.4596 - mae: 4.5956 - val_loss: 18.7778 - val_mae: 3.2376\n",
      "Epoch 49/1000\n",
      "11/11 [==============================] - 0s 6ms/step - loss: 26.6630 - mae: 3.9417 - val_loss: 20.1530 - val_mae: 3.3295\n",
      "Epoch 50/1000\n",
      "11/11 [==============================] - 0s 6ms/step - loss: 32.4762 - mae: 4.2138 - val_loss: 18.1616 - val_mae: 3.2289\n",
      "Epoch 51/1000\n",
      "11/11 [==============================] - 0s 6ms/step - loss: 31.8305 - mae: 4.1317 - val_loss: 18.2309 - val_mae: 3.2302\n",
      "Epoch 52/1000\n",
      "11/11 [==============================] - 0s 6ms/step - loss: 29.9570 - mae: 4.1981 - val_loss: 18.9324 - val_mae: 3.2565\n",
      "Epoch 53/1000\n",
      "11/11 [==============================] - 0s 6ms/step - loss: 29.3705 - mae: 4.1435 - val_loss: 17.7292 - val_mae: 3.1998\n",
      "Epoch 54/1000\n",
      "11/11 [==============================] - 0s 6ms/step - loss: 29.7716 - mae: 3.9890 - val_loss: 18.4378 - val_mae: 3.2152\n",
      "Epoch 55/1000\n",
      "11/11 [==============================] - 0s 6ms/step - loss: 32.0444 - mae: 4.1585 - val_loss: 18.0782 - val_mae: 3.2004\n",
      "Epoch 56/1000\n",
      "11/11 [==============================] - 0s 7ms/step - loss: 31.1981 - mae: 4.0891 - val_loss: 17.8071 - val_mae: 3.1648\n",
      "Epoch 57/1000\n",
      "11/11 [==============================] - 0s 8ms/step - loss: 27.2566 - mae: 3.8764 - val_loss: 17.8890 - val_mae: 3.1707\n",
      "Epoch 58/1000\n",
      "11/11 [==============================] - 0s 6ms/step - loss: 31.7139 - mae: 4.1319 - val_loss: 17.5314 - val_mae: 3.1532\n",
      "Epoch 59/1000\n",
      "11/11 [==============================] - 0s 6ms/step - loss: 30.3999 - mae: 4.2172 - val_loss: 18.4972 - val_mae: 3.2156\n",
      "Epoch 60/1000\n",
      "11/11 [==============================] - 0s 7ms/step - loss: 33.1064 - mae: 4.2747 - val_loss: 17.7281 - val_mae: 3.1888\n",
      "Epoch 61/1000\n",
      "11/11 [==============================] - 0s 9ms/step - loss: 29.4106 - mae: 4.1235 - val_loss: 19.0600 - val_mae: 3.2652\n",
      "Epoch 62/1000\n",
      "11/11 [==============================] - 0s 12ms/step - loss: 27.4080 - mae: 3.9137 - val_loss: 19.6918 - val_mae: 3.3312\n",
      "Epoch 63/1000\n",
      "11/11 [==============================] - 0s 9ms/step - loss: 30.3595 - mae: 4.1675 - val_loss: 18.6376 - val_mae: 3.2673\n"
     ]
    }
   ],
   "source": [
    "# Compilar el modelo\n",
    "model3.compile(optimizer='rmsprop', loss='mse', metrics=['mae'])\n",
    "\n",
    "# Entrenar el modelo\n",
    "# argumentos: validation_split, shuffle, epochs, verbose\n",
    "model3_fit = model3.fit(\n",
    "    train_new, train_labels, \n",
    "    validation_split=0.2, \n",
    "    shuffle=False,\n",
    "    epochs=1000, \n",
    "    batch_size=32, \n",
    "    verbose=1,\n",
    "    callbacks = [es]\n",
    ")"
   ]
  },
  {
   "cell_type": "code",
   "execution_count": 21,
   "id": "0881ba8a",
   "metadata": {},
   "outputs": [
    {
     "name": "stdout",
     "output_type": "stream",
     "text": [
      "4/4 [==============================] - 0s 2ms/step - loss: 28.0510 - mae: 3.4866\n",
      "Error cuadrático medio en el conjunto de prueba: 28.0510311126709\n",
      "Error absoluto medio en el conjunto de prueba: 3.4866344928741455\n"
     ]
    }
   ],
   "source": [
    "# Evaluar el modelo en el conjunto de prueba\n",
    "test_mse_score, test_mae_score = model3.evaluate(test_new, test_labels)\n",
    "print('Error cuadrático medio en el conjunto de prueba:', test_mse_score)\n",
    "print('Error absoluto medio en el conjunto de prueba:', test_mae_score)"
   ]
  },
  {
   "cell_type": "code",
   "execution_count": 22,
   "id": "e31aaff6",
   "metadata": {},
   "outputs": [
    {
     "data": {
      "text/plain": [
       "<matplotlib.legend.Legend at 0x18ce7067850>"
      ]
     },
     "execution_count": 22,
     "metadata": {},
     "output_type": "execute_result"
    },
    {
     "data": {
      "image/png": "[encoded data removed]",
      "text/plain": [
       "<Figure size 640x480 with 1 Axes>"
      ]
     },
     "metadata": {},
     "output_type": "display_data"
    }
   ],
   "source": [
    "# Graficar el loss del conjunto de entrenamiento y de validación\n",
    "plt.plot(model3_fit.history['loss'], 'b', label='train')\n",
    "plt.plot(model3_fit.history['val_loss'], 'r--', label='val')\n",
    "plt.ylabel('loss')\n",
    "plt.xlabel('epoch')\n",
    "plt.legend()"
   ]
  },
  {
   "cell_type": "code",
   "execution_count": 23,
   "id": "f016d1d2",
   "metadata": {},
   "outputs": [
    {
     "data": {
      "text/plain": [
       "<matplotlib.legend.Legend at 0x18cea3054e0>"
      ]
     },
     "execution_count": 23,
     "metadata": {},
     "output_type": "execute_result"
    },
    {
     "data": {
      "image/png": "[encoded data removed]",
      "text/plain": [
       "<Figure size 640x480 with 1 Axes>"
      ]
     },
     "metadata": {},
     "output_type": "display_data"
    }
   ],
   "source": [
    "# Graficar métricas de error\n",
    "plt.plot(model3_fit.history['mae'], 'b', label='train')\n",
    "plt.plot(model3_fit.history['val_mae'], 'r--', label='val')\n",
    "plt.ylabel('mae')\n",
    "plt.xlabel('epoch')\n",
    "plt.legend()"
   ]
  }
 ],
 "metadata": {
  "kernelspec": {
   "display_name": "Python 3 (ipykernel)",
   "language": "python",
   "name": "python3"
  },
  "language_info": {
   "codemirror_mode": {
    "name": "ipython",
    "version": 3
   },
   "file_extension": ".py",
   "mimetype": "text/x-python",
   "name": "python",
   "nbconvert_exporter": "python",
   "pygments_lexer": "ipython3",
   "version": "3.10.4"
  }
 },
 "nbformat": 4,
 "nbformat_minor": 5
}
