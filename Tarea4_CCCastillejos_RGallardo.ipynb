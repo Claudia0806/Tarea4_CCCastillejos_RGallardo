{
 "cells": [
  {
   "cell_type": "markdown",
   "id": "63cbca3e",
   "metadata": {},
   "source": [
    "<img style=\"float: left; margin: 30px 15px 15px 15px;\" src=\"https://encrypted-tbn0.gstatic.com/images?q=tbn:ANd9GcTFzQj91sOlkeDFkg5HDbjtR4QJYmLXkfMNig&usqp=CAU\" width=\"400\" height=\"500\" /> \n",
    "    \n",
    "    \n",
    "### <font color='navy'> Modelos no lineales para pronósticos. \n",
    "\n",
    "**Nombres:**\n",
    "- Castillejos Jauregui, Claudia Celeste\n",
    "- Gallardo      Rafael\n",
    "\n",
    "**Fecha:** 07 de marzo del 2023.\n",
    "\n",
    "**Expediente** :\n",
    "- 735868\n",
    "\n",
    "    \n",
    "**Profesor:** Oscar David Jaramillo Zuluaga.\n",
    "    \n",
    "**Link Github**: https://github.com/Claudia0806/Tarea4_CCCastillejos_RGallardo"
   ]
  },
  {
   "cell_type": "code",
   "execution_count": null,
   "id": "5dad9931",
   "metadata": {},
   "outputs": [],
   "source": [
    "import tensorflow as tf\n",
    "from tensorflow import keras\n",
    "import numpy as np\n",
    "import matplotlib.pyplot as plt\n",
    "import pandas as pd\n",
    "import seaborn as sn\n",
    "\n",
    "# Cargar los datos de entrenamiento y prueba\n",
    "(train_data, train_labels), (test_data, test_labels) = keras.datasets.boston_housing.load_data()"
   ]
  },
  {
   "cell_type": "code",
   "execution_count": null,
   "id": "b9bb7468",
   "metadata": {},
   "outputs": [],
   "source": [
    "train_data.shape, test_data.shape"
   ]
  },
  {
   "cell_type": "code",
   "execution_count": null,
   "id": "6b23bc17",
   "metadata": {},
   "outputs": [],
   "source": [
    "train_labels.shape, test_labels.shape"
   ]
  },
  {
   "cell_type": "code",
   "execution_count": null,
   "id": "1f66d858",
   "metadata": {},
   "outputs": [],
   "source": [
    "np.hstack([train_labels, test_labels]).shape"
   ]
  },
  {
   "cell_type": "code",
   "execution_count": null,
   "id": "034f0a83",
   "metadata": {},
   "outputs": [],
   "source": [
    "# Analizar la data completa\n",
    "columns = [\n",
    "    'CRIM',\n",
    "    'ZN',\n",
    "    'INDUS',\n",
    "    'CHAS',\n",
    "    'NOX',\n",
    "    'RM',\n",
    "    'AGE',\n",
    "    'DIS',\n",
    "    'RAD',\n",
    "    'TAX',\n",
    "    'PTRATIO',\n",
    "    'B',\n",
    "    'LSTAT',\n",
    "    'MEDV',\n",
    "]\n",
    "\n",
    "X = np.vstack([train_data, test_data])\n",
    "y = np.hstack([train_labels, test_labels]).reshape(-1, 1)\n",
    "data = pd.DataFrame(np.concatenate((X, y), axis=1), columns=columns)\n",
    "data\n"
   ]
  },
  {
   "cell_type": "code",
   "execution_count": null,
   "id": "2bf51b2e",
   "metadata": {},
   "outputs": [],
   "source": [
    "# Analizamos la distribución de variable MEDV\n",
    "import seaborn as sn\n",
    "sn.displot(data, x='MEDV', kde=True)"
   ]
  },
  {
   "cell_type": "code",
   "execution_count": null,
   "id": "b3137757",
   "metadata": {},
   "outputs": [],
   "source": [
    "# Análisis de correlación (selección de features) heatmap -> annot\n",
    "corr = data.corr().round(2)\n",
    "\n",
    "fig, ax = plt.subplots(1,1, figsize=(10, 8))\n",
    "sn.heatmap(corr, annot=True, ax=ax)"
   ]
  },
  {
   "cell_type": "code",
   "execution_count": null,
   "id": "5371533e",
   "metadata": {},
   "outputs": [],
   "source": [
    "plt.figure(figsize=(10,7))\n",
    "plt.boxplot(data)\n",
    "plt.show()"
   ]
  },
  {
   "cell_type": "code",
   "execution_count": null,
   "id": "bb4a1c18",
   "metadata": {},
   "outputs": [],
   "source": [
    "# Graficar la salida en el tiempo\n",
    "output_col = ['MEDV']\n",
    "data[output_col].plot()"
   ]
  },
  {
   "cell_type": "code",
   "execution_count": null,
   "id": "5d6a8775",
   "metadata": {},
   "outputs": [],
   "source": [
    "# Visualizo datos de entrenamiento y de prueba\n",
    "TEST_SIZE = int(0.2 * data.shape[0])\n",
    "TRAIN_SIZE = data.shape[0] - TEST_SIZE\n",
    "\n",
    "t = np.arange(1, X.shape[0] + 1)\n",
    "train_data, test_data = X[:TRAIN_SIZE], X[TRAIN_SIZE:]\n",
    "train_labels, test_labels = y[:TRAIN_SIZE], y[TRAIN_SIZE:]\n",
    "\n",
    "fig, ax = plt.subplots(1,2, figsize=(10,5))\n",
    "ax[0].plot(t[:TRAIN_SIZE], train_data, 'r*-', label='train data')\n",
    "ax[0].plot(t[TRAIN_SIZE:], test_data, 'bo-', label='test data')\n",
    "ax[0].legend()\n",
    "\n",
    "ax[1].plot(t[:TRAIN_SIZE], train_labels, 'r*-', label='train labels')\n",
    "ax[1].plot(t[TRAIN_SIZE:], test_labels, 'bo-', label='test labels')\n",
    "plt.legend()"
   ]
  },
  {
   "cell_type": "code",
   "execution_count": null,
   "id": "cf9a83fc",
   "metadata": {},
   "outputs": [],
   "source": [
    "test_data.shape, test_labels.shape"
   ]
  },
  {
   "cell_type": "code",
   "execution_count": null,
   "id": "99148557",
   "metadata": {},
   "outputs": [],
   "source": [
    "# Normalizar los datos de entrenamiento y prueba\n",
    "mean = train_data.mean(axis=0)\n",
    "std = train_data.std(axis=0)\n",
    "train_data = (train_data - mean) / std\n",
    "test_data = (test_data - mean) / std"
   ]
  },
  {
   "cell_type": "code",
   "execution_count": null,
   "id": "4b34f265",
   "metadata": {},
   "outputs": [],
   "source": [
    "train_data"
   ]
  },
  {
   "cell_type": "code",
   "execution_count": null,
   "id": "39d4dee3",
   "metadata": {},
   "outputs": [],
   "source": [
    "# Poner una semilla para replicar resultados\n",
    "tf.random.set_seed(5)\n",
    "\n",
    "# Definir la arquitectura de la red neuronal\n",
    "model = keras.Sequential([\n",
    "    keras.layers.Dense(64, activation='relu', input_shape=(train_data.shape[1],)),\n",
    "    keras.layers.Dense(64, activation='relu'),\n",
    "    keras.layers.Dense(16, activation='relu'),\n",
    "    keras.layers.Dense(1)\n",
    "])\n",
    "\n",
    "model.summary()"
   ]
  },
  {
   "cell_type": "code",
   "execution_count": null,
   "id": "44296c86",
   "metadata": {},
   "outputs": [],
   "source": [
    "# Compilar el modelo\n",
    "model.compile(optimizer='adam', loss='mean_squared_error', metrics=['mae'])\n",
    "\n",
    "# Entrenar el modelo\n",
    "# argumentos: validation_split, shuffle, epochs, verbose\n",
    "model_fit = model.fit(\n",
    "    train_data, train_labels, \n",
    "    validation_split=0.2, \n",
    "    shuffle=False,\n",
    "    epochs=50, \n",
    "    batch_size=32, \n",
    "    verbose=0\n",
    ")\n",
    "\n",
    "# Evaluar el modelo en el conjunto de prueba\n",
    "test_mse_score, test_mae_score = model.evaluate(test_data, test_labels)\n",
    "print('Error cuadrático medio en el conjunto de prueba:', test_mse_score)\n",
    "print('Error absoluto medio en el conjunto de prueba:', test_mae_score)"
   ]
  },
  {
   "cell_type": "code",
   "execution_count": null,
   "id": "1e4dd979",
   "metadata": {},
   "outputs": [],
   "source": [
    "model_fit.history.keys()"
   ]
  },
  {
   "cell_type": "code",
   "execution_count": null,
   "id": "814822c0",
   "metadata": {},
   "outputs": [],
   "source": [
    "# Graficar el loss del conjunto de entrenamiento y de validación\n",
    "plt.plot(model_fit.history['loss'], 'b', label='train')\n",
    "plt.plot(model_fit.history['val_loss'], 'r--', label='val')\n",
    "plt.ylabel('loss')\n",
    "plt.xlabel('epoch')\n",
    "plt.legend()"
   ]
  },
  {
   "cell_type": "code",
   "execution_count": null,
   "id": "7aa0fb80",
   "metadata": {},
   "outputs": [],
   "source": [
    "# Graficar métricas de error\n",
    "plt.plot(model_fit.history['mae'], 'b', label='train')\n",
    "plt.plot(model_fit.history['val_mae'], 'r--', label='val')\n",
    "plt.ylabel('mae')\n",
    "plt.xlabel('epoch')\n",
    "plt.legend()"
   ]
  },
  {
   "cell_type": "code",
   "execution_count": null,
   "id": "a0a5ec21",
   "metadata": {},
   "outputs": [],
   "source": [
    "predicted = model.predict(test_data)"
   ]
  },
  {
   "cell_type": "code",
   "execution_count": null,
   "id": "f86d3a38",
   "metadata": {},
   "outputs": [],
   "source": [
    "predicted.shape, test_data.shape"
   ]
  },
  {
   "cell_type": "code",
   "execution_count": null,
   "id": "6893cb71",
   "metadata": {},
   "outputs": [],
   "source": [
    "t[TRAIN_SIZE:].shape, test_labels.shape"
   ]
  },
  {
   "cell_type": "code",
   "execution_count": null,
   "id": "60245123",
   "metadata": {},
   "outputs": [],
   "source": [
    "plt.figure(figsize=(10,5))\n",
    "plt.plot(t[TRAIN_SIZE:], predicted, 'r*-', label='prediction')\n",
    "plt.plot(t[TRAIN_SIZE:], test_labels, 'bo-', label='test labels')\n",
    "\n",
    "plt.legend()"
   ]
  },
  {
   "cell_type": "code",
   "execution_count": null,
   "id": "64aa2f63",
   "metadata": {},
   "outputs": [],
   "source": []
  }
 ],
 "metadata": {
  "kernelspec": {
   "display_name": "Python 3 (ipykernel)",
   "language": "python",
   "name": "python3"
  },
  "language_info": {
   "codemirror_mode": {
    "name": "ipython",
    "version": 3
   },
   "file_extension": ".py",
   "mimetype": "text/x-python",
   "name": "python",
   "nbconvert_exporter": "python",
   "pygments_lexer": "ipython3",
   "version": "3.8.5"
  }
 },
 "nbformat": 4,
 "nbformat_minor": 5
}
